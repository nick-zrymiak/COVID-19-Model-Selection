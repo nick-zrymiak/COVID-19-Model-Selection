{
  "nbformat": 4,
  "nbformat_minor": 0,
  "metadata": {
    "colab": {
      "name": "COVID-19 Model Selection.ipynb",
      "provenance": [],
      "collapsed_sections": []
    },
    "kernelspec": {
      "display_name": "Python 3",
      "language": "python",
      "name": "python3"
    },
    "language_info": {
      "codemirror_mode": {
        "name": "ipython",
        "version": 3
      },
      "file_extension": ".py",
      "mimetype": "text/x-python",
      "name": "python",
      "nbconvert_exporter": "python",
      "pygments_lexer": "ipython3",
      "version": "3.8.5"
    }
  },
  "cells": [
    {
      "cell_type": "code",
      "metadata": {
        "id": "7E1nZ-0u4A6o"
      },
      "source": [
        "import pandas as pd\n",
        "from xgboost import XGBClassifier\n",
        "import pickle\n",
        "import numpy as np\n",
        "import time\n",
        "import multiprocessing as mp\n",
        "import matplotlib.pyplot as plt\n",
        "\n",
        "from sklearn.model_selection import train_test_split\n",
        "from sklearn.ensemble import RandomForestClassifier\n",
        "from sklearn.neighbors import KNeighborsClassifier\n",
        "from sklearn.metrics import accuracy_score"
      ],
      "execution_count": null,
      "outputs": []
    },
    {
      "cell_type": "code",
      "metadata": {
        "id": "lWjEJmT06Cor"
      },
      "source": [
        "covid_df = pd.read_csv('./cases_train_processed.csv')"
      ],
      "execution_count": null,
      "outputs": []
    },
    {
      "cell_type": "code",
      "metadata": {
        "id": "DMaAgATSf3Uf"
      },
      "source": [
        "# SPLITTING DATA SETS"
      ],
      "execution_count": null,
      "outputs": []
    },
    {
      "cell_type": "code",
      "metadata": {
        "id": "2ebi8ytqA8Er"
      },
      "source": [
        "x = covid_df.drop('outcome', axis=1)\n",
        "x_encoded = pd.get_dummies(x)\n",
        "y = covid_df['outcome']\n",
        "\n",
        "x_train_encoded, x_val_encoded, y_train, y_val = train_test_split(x_encoded, \n",
        "                                                                  y, \n",
        "                                                                  test_size=.2, \n",
        "                                                                  random_state=7)"
      ],
      "execution_count": null,
      "outputs": []
    },
    {
      "cell_type": "code",
      "metadata": {
        "id": "e5QGZoMfBkzQ"
      },
      "source": [
        "# BUILD MODELS"
      ],
      "execution_count": null,
      "outputs": []
    },
    {
      "cell_type": "code",
      "metadata": {
        "id": "_UoKOB7FJTdc",
        "colab": {
          "base_uri": "https://localhost:8080/"
        },
        "outputId": "5df7c650-3ae4-4abe-a1d5-075bc1948ba0"
      },
      "source": [
        "# XGBoost pros: \n",
        "# 1. Works well for unscaled/non-normalized data\n",
        "# 2. Handles large data sets\n",
        "# 3. One of the most accurate classification models\n",
        "# 4. Reduces bias\n",
        "\n",
        "xgb = XGBClassifier(max_depth=5, random_state=7)\n",
        "xgb.fit(x_train_encoded, y_train)"
      ],
      "execution_count": null,
      "outputs": [
        {
          "output_type": "execute_result",
          "data": {
            "text/plain": [
              "XGBClassifier(base_score=0.5, booster='gbtree', colsample_bylevel=1,\n",
              "              colsample_bynode=1, colsample_bytree=1, gamma=0,\n",
              "              learning_rate=0.1, max_delta_step=0, max_depth=5,\n",
              "              min_child_weight=1, missing=None, n_estimators=100, n_jobs=1,\n",
              "              nthread=None, objective='multi:softprob', random_state=7,\n",
              "              reg_alpha=0, reg_lambda=1, scale_pos_weight=1, seed=None,\n",
              "              silent=None, subsample=1, verbosity=1)"
            ]
          },
          "metadata": {
            "tags": []
          },
          "execution_count": 6
        }
      ]
    },
    {
      "cell_type": "code",
      "metadata": {
        "id": "ln33KoUQByz8"
      },
      "source": [
        "pickle.dump(xgb, open('xgb_classifier.pkl', 'wb'))"
      ],
      "execution_count": null,
      "outputs": []
    },
    {
      "cell_type": "code",
      "metadata": {
        "id": "TvoOWXXfISJm",
        "colab": {
          "base_uri": "https://localhost:8080/"
        },
        "outputId": "5e9b172c-697c-4666-8d21-f48f15b8ce83"
      },
      "source": [
        "# Random Forest pros:\n",
        "# 1. Can handle features that are highly correlated such as deaths and case-fatality_ratio \n",
        "# 2. Better than decision tree as random forest minimizes error of each tree, decreasing variance\n",
        "# 3. Can handle large amounts of data\n",
        "# 4. Uses dimensionality reduction for generalization\n",
        "# 5. Can be used for numerical and categorical data\n",
        "\n",
        "rf = RandomForestClassifier(max_depth=5, random_state=7)\n",
        "rf.fit(x_train_encoded, y_train)"
      ],
      "execution_count": null,
      "outputs": [
        {
          "output_type": "execute_result",
          "data": {
            "text/plain": [
              "RandomForestClassifier(bootstrap=True, ccp_alpha=0.0, class_weight=None,\n",
              "                       criterion='gini', max_depth=5, max_features='auto',\n",
              "                       max_leaf_nodes=None, max_samples=None,\n",
              "                       min_impurity_decrease=0.0, min_impurity_split=None,\n",
              "                       min_samples_leaf=1, min_samples_split=2,\n",
              "                       min_weight_fraction_leaf=0.0, n_estimators=100,\n",
              "                       n_jobs=None, oob_score=False, random_state=7, verbose=0,\n",
              "                       warm_start=False)"
            ]
          },
          "metadata": {
            "tags": []
          },
          "execution_count": 8
        }
      ]
    },
    {
      "cell_type": "code",
      "metadata": {
        "id": "QWo_fuPkOxpv"
      },
      "source": [
        "pickle.dump(rf, open('rf_classifier.pkl', 'wb'))"
      ],
      "execution_count": null,
      "outputs": []
    },
    {
      "cell_type": "code",
      "metadata": {
        "id": "M_ElqlR4RFfN",
        "colab": {
          "base_uri": "https://localhost:8080/"
        },
        "outputId": "f5919a5f-b837-4d53-b732-5d708d05f496"
      },
      "source": [
        "# KNN pros:\n",
        "# 1. Simple to understand\n",
        "# 2. No assumption about data\n",
        "\n",
        "knn = KNeighborsClassifier(n_neighbors=5)\n",
        "knn.fit(x_train_encoded, y_train)"
      ],
      "execution_count": null,
      "outputs": [
        {
          "output_type": "execute_result",
          "data": {
            "text/plain": [
              "KNeighborsClassifier(algorithm='auto', leaf_size=30, metric='minkowski',\n",
              "                     metric_params=None, n_jobs=None, n_neighbors=5, p=2,\n",
              "                     weights='uniform')"
            ]
          },
          "metadata": {
            "tags": []
          },
          "execution_count": 38
        }
      ]
    },
    {
      "cell_type": "code",
      "metadata": {
        "id": "yqr_HCffSi2N"
      },
      "source": [
        "pickle.dump(knn, open('knn_classifier.pkl', 'wb'))"
      ],
      "execution_count": null,
      "outputs": []
    },
    {
      "cell_type": "code",
      "metadata": {
        "id": "ki0zCSlgf680"
      },
      "source": [
        "# EVALUATION"
      ],
      "execution_count": null,
      "outputs": []
    },
    {
      "cell_type": "code",
      "metadata": {
        "id": "qzBlbigaQNtx",
        "cellView": "code"
      },
      "source": [
        "xgb = pickle.load(open('xgb_classifier.pkl', 'rb'))\n",
        "rf = pickle.load(open('rf_classifier.pkl', 'rb'))\n",
        "knn = pickle.load(open('knn_classifier.pkl', 'rb'))"
      ],
      "execution_count": null,
      "outputs": []
    },
    {
      "cell_type": "code",
      "metadata": {
        "id": "ph74Ud6QQrWt",
        "colab": {
          "base_uri": "https://localhost:8080/"
        },
        "outputId": "a9d7d049-4c96-40e7-b07f-9bf3363ef389"
      },
      "source": [
        "xgb_train_predictions = xgb.predict(x_train_encoded)\n",
        "xgb_train_accuracy = accuracy_score(y_train, xgb_train_predictions)\n",
        "print(xgb_train_accuracy)"
      ],
      "execution_count": null,
      "outputs": [
        {
          "output_type": "stream",
          "text": [
            "0.7647248688489762\n"
          ],
          "name": "stdout"
        }
      ]
    },
    {
      "cell_type": "code",
      "metadata": {
        "id": "tj4l_4h6UJ4S",
        "colab": {
          "base_uri": "https://localhost:8080/"
        },
        "outputId": "8a92d1d8-4eb2-4efe-f5a4-53aaabeb51f2"
      },
      "source": [
        "xgb_val_predictions = xgb.predict(x_val_encoded)\n",
        "xgb_val_accuracy = accuracy_score(y_val, xgb_val_predictions)\n",
        "print(xgb_val_accuracy)"
      ],
      "execution_count": null,
      "outputs": [
        {
          "output_type": "stream",
          "text": [
            "0.765582611537833\n"
          ],
          "name": "stdout"
        }
      ]
    },
    {
      "cell_type": "code",
      "metadata": {
        "id": "HHjOM08YUeR9",
        "colab": {
          "base_uri": "https://localhost:8080/"
        },
        "outputId": "0ff9f1fd-29ea-4f93-a807-4d2f4fbf38bc"
      },
      "source": [
        "rf_train_predictions = rf.predict(x_train_encoded)\n",
        "rf_train_accuracy = accuracy_score(y_train, rf_train_predictions)\n",
        "print(rf_train_accuracy)"
      ],
      "execution_count": null,
      "outputs": [
        {
          "output_type": "stream",
          "text": [
            "0.7093636111065714\n"
          ],
          "name": "stdout"
        }
      ]
    },
    {
      "cell_type": "code",
      "metadata": {
        "id": "fDuKmKeKUeeU",
        "colab": {
          "base_uri": "https://localhost:8080/"
        },
        "outputId": "e79cc047-130f-4d26-829a-592ae93cdf53"
      },
      "source": [
        "rf_val_predictions = rf.predict(x_val_encoded)\n",
        "rf_val_accuracy = accuracy_score(y_val, rf_val_predictions)\n",
        "print(rf_val_accuracy)"
      ],
      "execution_count": null,
      "outputs": [
        {
          "output_type": "stream",
          "text": [
            "0.7108841313940186\n"
          ],
          "name": "stdout"
        }
      ]
    },
    {
      "cell_type": "code",
      "metadata": {
        "id": "OxfZd01kUeo_",
        "colab": {
          "base_uri": "https://localhost:8080/"
        },
        "outputId": "5b18dc7e-db0c-44ef-bb04-1f0d4c60c0c1"
      },
      "source": [
        "knn_train_predictions = knn.predict(x_train_encoded)\n",
        "knn_train_accuracy = accuracy_score(y_train, knn_train_predictions)\n",
        "print(knn_train_accuracy)"
      ],
      "execution_count": null,
      "outputs": [
        {
          "output_type": "stream",
          "text": [
            "0.8202127833434114\n"
          ],
          "name": "stdout"
        }
      ]
    },
    {
      "cell_type": "code",
      "metadata": {
        "id": "Bb-hEBO8UezW",
        "colab": {
          "base_uri": "https://localhost:8080/"
        },
        "outputId": "76c608b8-23ce-4a34-a28d-3cb47de784ee"
      },
      "source": [
        "knn_val_predictions = knn.predict(x_val_encoded)\n",
        "knn_val_accuracy = accuracy_score(y_val, knn_val_predictions)\n",
        "print(knn_val_accuracy)"
      ],
      "execution_count": null,
      "outputs": [
        {
          "output_type": "stream",
          "text": [
            "0.8109495015525413\n"
          ],
          "name": "stdout"
        }
      ]
    },
    {
      "cell_type": "code",
      "metadata": {
        "id": "NohrjbVqMzPM"
      },
      "source": [
        "# CHECKING FOR OVERFITTING WITH HYPERPARAMETER TUNING"
      ],
      "execution_count": null,
      "outputs": []
    },
    {
      "cell_type": "code",
      "metadata": {
        "id": "4WOQQh5a4Mfs"
      },
      "source": [
        "# Input model_type and hyperparameters separately so the models can be created in parallel.\n",
        "def predict(x_train, y_train, x_val, model_type, **hyperparameters):\n",
        "  model = model_type(**hyperparameters)\n",
        "  model.fit(x_train, y_train)\n",
        "  return model.predict(x_val)"
      ],
      "execution_count": null,
      "outputs": []
    },
    {
      "cell_type": "code",
      "metadata": {
        "id": "c8ISgHZjGD0O"
      },
      "source": [
        "# To test method using Process class, make a version of predict that appends model predictions\n",
        "# to predictions parameter\n",
        "\n",
        "# # Testing predict function with different methods of sequential/parallel computing\n",
        "# x_train_encoded_sample = x_train_encoded.head(100000)\n",
        "# y_train_sample = y_train.head(100000)\n",
        "# x_val_encoded_sample = x_val_encoded.head(100000)\n",
        "\n",
        "# # RF validation sequential\n",
        "# max_depths = np.linspace(5, 25, 3, dtype=int)\n",
        "# start = time.perf_counter()\n",
        "# predictions = []\n",
        "# for i in max_depths:\n",
        "#   predictions.append(predict(x_train_encoded_sample, \n",
        "#                              y_train_sample, \n",
        "#                              x_val_encoded_sample, \n",
        "#                              RandomForestClassifier, \n",
        "#                              predictions, \n",
        "#                              max_depth=i, \n",
        "#                              random_state=7))\n",
        "\n",
        "# end = time.perf_counter()\n",
        "# print('Sequential:', end-start, 'seconds')\n",
        "# predictions = np.array(predictions)\n",
        "# print(predictions)\n",
        "# rf_val_preds = pd.DataFrame(predictions.T, columns=max_depths)\n",
        "\n",
        "# # RF validation using Process\n",
        "# processes = []\n",
        "# max_depths = np.linspace(5, 25, 3, dtype=int)\n",
        "# start = time.perf_counter()\n",
        "# manager = multiprocessing.Manager()\n",
        "# predictions = manager.list()\n",
        "# for i in max_depths:\n",
        "#   p = multiprocessing.Process(target=predict, \n",
        "#                               args=(x_train_encoded_sample, y_train_sample, x_val_encoded_sample, RandomForestClassifier, predictions), \n",
        "#                               kwargs={'max_depth': i, 'random_state': 7})\n",
        "#   processes.append(p)\n",
        "#   p.start()\n",
        "\n",
        "# for p in processes:\n",
        "#   p.join()\n",
        "\n",
        "# end = time.perf_counter()\n",
        "# print('Process:', end-start, 'seconds')\n",
        "\n",
        "# # RF validation using Pool\n",
        "# max_depths = np.linspace(5, 25, 3, dtype=int)\n",
        "# predictions = []\n",
        "# start = time.perf_counter()\n",
        "# pool = mp.Pool(mp.cpu_count())\n",
        "# for i in n_neighbors:\n",
        "#   predictions.append(pool.apply(predict, \n",
        "#                                 args=(x_train_encoded_sample, y_train_sample, x_val_encoded_sample, KNeighborsClassifier, predictions),\n",
        "#                                 kwds={'n_neighbors': i}))\n",
        "# pool.close()\n",
        "# end = time.perf_counter()\n",
        "# print('Pool:', end-start, 'seconds')"
      ],
      "execution_count": null,
      "outputs": []
    },
    {
      "cell_type": "code",
      "metadata": {
        "id": "NYbJzVcYAvh2",
        "colab": {
          "base_uri": "https://localhost:8080/"
        },
        "outputId": "53e2c24c-c264-4bac-c266-f115a3cf9641"
      },
      "source": [
        "# XGB train\n",
        "predictions = []\n",
        "max_depths = np.linspace(5, 25, 3, dtype=int)\n",
        "start = time.perf_counter()\n",
        "pool = mp.Pool(mp.cpu_count())\n",
        "for i in max_depths:\n",
        "  predictions.append(pool.apply(predict, \n",
        "                                args=(x_train_encoded, y_train, x_train_encoded, XGBClassifier),\n",
        "                                kwds={'max_depth': i, 'random_state': 7}))\n",
        "pool.close()\n",
        "end = time.perf_counter()\n",
        "print(end-start, 'seconds')\n",
        "predictions = np.array(predictions)\n",
        "xgb_train_preds = pd.DataFrame(predictions.T, columns=max_depths)"
      ],
      "execution_count": null,
      "outputs": [
        {
          "output_type": "stream",
          "text": [
            "29758.654657918 seconds\n"
          ],
          "name": "stdout"
        }
      ]
    },
    {
      "cell_type": "code",
      "metadata": {
        "id": "SbPea6NRDPOA",
        "colab": {
          "base_uri": "https://localhost:8080/"
        },
        "outputId": "cf6fdd07-d484-4f42-f034-84b284f45c3c"
      },
      "source": [
        "# XGB validation\n",
        "predictions = []\n",
        "max_depths = np.linspace(5, 25, 3, dtype=int)\n",
        "start = time.perf_counter()\n",
        "pool = mp.Pool(mp.cpu_count())\n",
        "for i in max_depths:\n",
        "  predictions.append(pool.apply(predict, \n",
        "                                args=(x_train_encoded, y_train, x_val_encoded, XGBClassifier),\n",
        "                                kwds={'max_depth': i, 'random_state': 7}))\n",
        "pool.close()\n",
        "end = time.perf_counter()\n",
        "print(end-start, 'seconds')\n",
        "predictions = np.array(predictions)\n",
        "xgb_val_preds = pd.DataFrame(predictions.T, columns=max_depths)"
      ],
      "execution_count": null,
      "outputs": [
        {
          "output_type": "stream",
          "text": [
            "29667.411001052 seconds\n"
          ],
          "name": "stdout"
        }
      ]
    },
    {
      "cell_type": "code",
      "metadata": {
        "id": "Ua0uHga63Id6",
        "colab": {
          "base_uri": "https://localhost:8080/"
        },
        "outputId": "342f837d-19ef-49d3-d612-3484751e5944"
      },
      "source": [
        "# RF train\n",
        "predictions = []\n",
        "max_depths = np.linspace(5, 25, 3, dtype=int)\n",
        "start = time.perf_counter()\n",
        "pool = mp.Pool(mp.cpu_count())\n",
        "for i in max_depths:\n",
        "  predictions.append(pool.apply(predict, \n",
        "                                args=(x_train_encoded, y_train, x_train_encoded, RandomForestClassifier),\n",
        "                                kwds={'max_depth': i, 'random_state': 7}))\n",
        "pool.close()\n",
        "end = time.perf_counter()\n",
        "print(end-start, 'seconds')\n",
        "predictions = np.array(predictions)\n",
        "rf_train_preds = pd.DataFrame(predictions.T, columns=max_depths)"
      ],
      "execution_count": null,
      "outputs": [
        {
          "output_type": "stream",
          "text": [
            "205.76938419600083 seconds\n"
          ],
          "name": "stdout"
        }
      ]
    },
    {
      "cell_type": "code",
      "metadata": {
        "id": "FhL0CGGmDXJv",
        "colab": {
          "base_uri": "https://localhost:8080/"
        },
        "outputId": "19c0f81b-55de-4d3d-8ca2-c9d1f70e2c22"
      },
      "source": [
        "# RF validation\n",
        "predictions = []\n",
        "max_depths = np.linspace(5, 25, 3, dtype=int)\n",
        "start = time.perf_counter()\n",
        "pool = mp.Pool(mp.cpu_count())\n",
        "for i in max_depths:\n",
        "  predictions.append(pool.apply(predict, \n",
        "                                args=(x_train_encoded, y_train, x_val_encoded, RandomForestClassifier),\n",
        "                                kwds={'max_depth': i, 'random_state': 7}))\n",
        "pool.close()\n",
        "end = time.perf_counter()\n",
        "print(end-start, 'seconds')\n",
        "predictions = np.array(predictions)\n",
        "rf_val_preds = pd.DataFrame(predictions.T, columns=max_depths)"
      ],
      "execution_count": null,
      "outputs": [
        {
          "output_type": "stream",
          "text": [
            "198.5224125199993 seconds\n"
          ],
          "name": "stdout"
        }
      ]
    },
    {
      "cell_type": "code",
      "metadata": {
        "id": "t05JX7R8CSnn",
        "colab": {
          "base_uri": "https://localhost:8080/"
        },
        "outputId": "99f5c699-c896-48b5-8be6-c610d20f0a30"
      },
      "source": [
        "# KNN train\n",
        "predictions = []\n",
        "n_neighbors = np.linspace(5, 10, 3, dtype=int)\n",
        "start = time.perf_counter()\n",
        "pool = mp.Pool(mp.cpu_count())\n",
        "for i in n_neighbors:\n",
        "  predictions.append(pool.apply(predict, \n",
        "                                args=(x_train_encoded, y_train, x_train_encoded, KNeighborsClassifier),\n",
        "                                kwds={'n_neighbors': i}))\n",
        "pool.close()\n",
        "end = time.perf_counter()\n",
        "print(end-start, 'seconds')\n",
        "predictions = np.array(predictions)\n",
        "knn_train_preds = pd.DataFrame(predictions.T, columns=n_neighbors)"
      ],
      "execution_count": null,
      "outputs": [
        {
          "output_type": "stream",
          "text": [
            "12763.292653744 seconds\n"
          ],
          "name": "stdout"
        }
      ]
    },
    {
      "cell_type": "code",
      "metadata": {
        "id": "1tGWYTjkDb90",
        "colab": {
          "base_uri": "https://localhost:8080/"
        },
        "outputId": "10fd32a7-96a2-48e3-af47-033f096896ed"
      },
      "source": [
        "# KNN validation\n",
        "predictions = []\n",
        "n_neighbors = np.linspace(5, 10, 3, dtype=int)\n",
        "start = time.perf_counter()\n",
        "pool = mp.Pool(mp.cpu_count())\n",
        "for i in n_neighbors:\n",
        "  predictions.append(pool.apply(predict, \n",
        "                                args=(x_train_encoded, y_train, x_val_encoded, KNeighborsClassifier),\n",
        "                                kwds={'n_neighbors': i}))\n",
        "pool.close()\n",
        "end = time.perf_counter()\n",
        "print(end-start, 'seconds')\n",
        "predictions = np.array(predictions)\n",
        "knn_val_preds = pd.DataFrame(predictions.T, columns=n_neighbors)"
      ],
      "execution_count": null,
      "outputs": [
        {
          "output_type": "stream",
          "text": [
            "3465.0072627850004 seconds\n"
          ],
          "name": "stdout"
        }
      ]
    },
    {
      "cell_type": "code",
      "metadata": {
        "id": "D5Tzk23rPWvZ"
      },
      "source": [
        "def get_scores(preds, y):\n",
        "    scores = {}\n",
        "    for col in preds.columns:\n",
        "        scores[col] = accuracy_score(y, preds[col])\n",
        "            \n",
        "    return scores\n",
        "\n",
        "def plot_train_vs_val(train_hyperparameter_scores, val_hyperparameter_scores, title):\n",
        "    train_hps = list(train_hyperparameter_scores.keys())\n",
        "    train_scores = list(train_hyperparameter_scores.values())\n",
        "\n",
        "    val_hps = list(val_hyperparameter_scores.keys())\n",
        "    val_scores = list(val_hyperparameter_scores.values())\n",
        "    \n",
        "    plt.plot(train_hps, train_scores, '-', label='train')\n",
        "    plt.plot(val_hps, val_scores, '-', label='validation')\n",
        "    \n",
        "    plt.legend()\n",
        "    plt.title(title)\n",
        "    plt.show()"
      ],
      "execution_count": null,
      "outputs": []
    },
    {
      "cell_type": "code",
      "metadata": {
        "id": "Qr94XXagP_2Z"
      },
      "source": [
        "xgb_train_scores = get_scores(xgb_train_preds, y_train)\n",
        "xgb_val_scores = get_scores(xgb_val_preds, y_val)\n",
        "rf_train_scores = get_scores(rf_train_preds, y_train)\n",
        "rf_val_scores = get_scores(rf_val_preds, y_val)\n",
        "knn_train_scores = get_scores(knn_train_preds, y_train)\n",
        "knn_val_scores = get_scores(knn_val_preds, y_val)"
      ],
      "execution_count": null,
      "outputs": []
    },
    {
      "cell_type": "code",
      "metadata": {
        "id": "1xWKVgMLUxhQ",
        "colab": {
          "base_uri": "https://localhost:8080/",
          "height": 809
        },
        "outputId": "3e285412-03d4-41ec-fa33-5f47368501de"
      },
      "source": [
        "plot_train_vs_val(xgb_train_scores, xgb_val_scores, 'XGBoost')\n",
        "plot_train_vs_val(rf_train_scores, rf_val_scores, 'Random Forest')\n",
        "plot_train_vs_val(knn_train_scores, knn_val_scores, 'KNN')"
      ],
      "execution_count": null,
      "outputs": [
        {
          "output_type": "display_data",
          "data": {
            "image/png": "[encoded data removed]",
            "text/plain": [
              "<Figure size 432x288 with 1 Axes>"
            ]
          },
          "metadata": {
            "tags": [],
            "needs_background": "light"
          }
        },
        {
          "output_type": "display_data",
          "data": {
            "image/png": "[encoded data removed]",
            "text/plain": [
              "<Figure size 432x288 with 1 Axes>"
            ]
          },
          "metadata": {
            "tags": [],
            "needs_background": "light"
          }
        },
        {
          "output_type": "display_data",
          "data": {
            "image/png": "[encoded data removed]",
            "text/plain": [
              "<Figure size 432x288 with 1 Axes>"
            ]
          },
          "metadata": {
            "tags": [],
            "needs_background": "light"
          }
        }
      ]
    }
  ]
}